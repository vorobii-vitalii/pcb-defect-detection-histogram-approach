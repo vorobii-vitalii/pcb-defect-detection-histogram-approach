{
 "cells": [
  {
   "cell_type": "code",
   "execution_count": null,
   "metadata": {},
   "outputs": [],
   "source": [
    "import os\n",
    "from pathlib import Path\n",
    "import cv2\n",
    "import numpy as np\n",
    "import matplotlib.pyplot as plt\n",
    "import torch \n",
    "from torch.utils.data import TensorDataset, DataLoader\n",
    "import random\n",
    "from torch import nn\n",
    "from torch._C._te import Tensor\n",
    "from torch.utils.data import DataLoader\n",
    "from torchvision import datasets, transforms\n",
    "from tqdm.auto import tqdm"
   ]
  },
  {
   "cell_type": "code",
   "execution_count": null,
   "metadata": {},
   "outputs": [],
   "source": [
    "TEMP_SUFFIX = \"temp\"\n",
    "TEST_SUFFIX = \"test\"\n",
    "IMAGE_EXTENSION = \".jpg\"\n",
    "DATASET_LOCATION = '/work/pcb-defect-detection-histogram-approach/binary_classification_dataset'\n",
    "NOT_VALID_LOCATION = DATASET_LOCATION + \"/not_valid\"\n",
    "VALID_LOCATION = DATASET_LOCATION + \"/valid\"\n",
    "TOLERANCE = 3\n",
    "HISTOGRAM_SIZE = 256\n",
    "TRAIN_VECTOR_SIZE = HISTOGRAM_SIZE * 2\n",
    "BATCH_SIZE = 32"
   ]
  },
  {
   "cell_type": "code",
   "execution_count": null,
   "metadata": {},
   "outputs": [],
   "source": [
    "def get_pcb_image_names(path):\n",
    "    images = []\n",
    "    for file in os.listdir(path):\n",
    "        if file.endswith(IMAGE_EXTENSION):\n",
    "            images.append(file)\n",
    "    return images"
   ]
  },
  {
   "cell_type": "code",
   "execution_count": null,
   "metadata": {},
   "outputs": [],
   "source": [
    "def to_valid_image_name(name: str):\n",
    "    return name.replace(TEST_SUFFIX, TEMP_SUFFIX)"
   ]
  },
  {
   "cell_type": "code",
   "execution_count": null,
   "metadata": {},
   "outputs": [],
   "source": [
    "def to_cumm_histo(diff_vector):\n",
    "    # If empty -> return empty histogram (filled with zeros)\n",
    "    n = len(diff_vector)\n",
    "    if n == 0:\n",
    "        return np.zeros(HISTOGRAM_SIZE)\n",
    "    histo = np.bincount(diff_vector, minlength=HISTOGRAM_SIZE)\n",
    "    cumm = np.cumsum(histo, axis=0)\n",
    "    cumm = cumm / n\n",
    "    return cumm"
   ]
  },
  {
   "cell_type": "code",
   "execution_count": null,
   "metadata": {},
   "outputs": [],
   "source": [
    "def find_difference_histograms(img1, img2):\n",
    "    diff = (np.int32(img1) - np.int32(img2)).flatten()\n",
    "    significantly_different = diff[np.abs(diff) > TOLERANCE]\n",
    "    positive = significantly_different[significantly_different > 0]\n",
    "    negative = significantly_different[significantly_different < 0] * -1\n",
    "    pos_histo = to_cumm_histo(positive)\n",
    "    neg_histo = to_cumm_histo(negative)\n",
    "    return (pos_histo, neg_histo)"
   ]
  },
  {
   "cell_type": "code",
   "execution_count": null,
   "metadata": {},
   "outputs": [],
   "source": [
    "def plot_compare_result(img1, img2, histos):\n",
    "    (pos_histo, neg_histo) = histos\n",
    "    f, axarr = plt.subplots(2,2)\n",
    "    axarr[0,0].imshow(img1)\n",
    "    axarr[0,1].imshow(img2)\n",
    "    axarr[1,0].plot(pos_histo)\n",
    "    axarr[1,1].plot(neg_histo)\n",
    "    f.show()"
   ]
  },
  {
   "cell_type": "code",
   "execution_count": null,
   "metadata": {},
   "outputs": [],
   "source": [
    "def plot_several_examples(num_examples):\n",
    "    copy_examples = invalid_pcb_images_names.copy()\n",
    "    random.shuffle(copy_examples)\n",
    "    for invalid_pcb_image_name in copy_examples:\n",
    "        if num_examples == 0:\n",
    "            break\n",
    "        invalid_pcb_image = cv2.imread(os.path.join(VALID_LOCATION, to_valid_image_name(invalid_pcb_image_name)), cv2.IMREAD_GRAYSCALE)\n",
    "        valid_pcb_image = cv2.imread(os.path.join(NOT_VALID_LOCATION, invalid_pcb_image_name), cv2.IMREAD_GRAYSCALE)\n",
    "        histos = find_difference_histograms(invalid_pcb_image, valid_pcb_image)\n",
    "        plot_compare_result(valid_pcb_image, invalid_pcb_image, histos)\n",
    "        num_examples -= 1\n",
    "        # print(f\"Original size = {len(diff)} thres = {len(significantly_different)} pos = {len(positive)} neg = {len(negative)}\")\n",
    "        # print(f\"Max = {np.min(positive)} / {np.min(negative)}\")"
   ]
  },
  {
   "cell_type": "code",
   "execution_count": null,
   "metadata": {},
   "outputs": [],
   "source": [
    "invalid_pcb_images_names = get_pcb_image_names(Path(NOT_VALID_LOCATION))\n",
    "print(f\"Read PCB images = {invalid_pcb_images_names}\")"
   ]
  },
  {
   "cell_type": "code",
   "execution_count": null,
   "metadata": {},
   "outputs": [],
   "source": [
    "# Plot some examples!\n",
    "plot_several_examples(5)"
   ]
  },
  {
   "cell_type": "code",
   "execution_count": null,
   "metadata": {},
   "outputs": [],
   "source": [
    "# Prepare data\n",
    "X = []\n",
    "Y = []\n",
    "\n",
    "N = len(invalid_pcb_images_names)\n",
    "\n",
    "# Add invalid PCB histograms from images dataset\n",
    "for invalid_pcb_image_name in invalid_pcb_images_names:\n",
    "    invalid_pcb_image = cv2.imread(os.path.join(VALID_LOCATION, to_valid_image_name(invalid_pcb_image_name)), cv2.IMREAD_GRAYSCALE)\n",
    "    valid_pcb_image = cv2.imread(os.path.join(NOT_VALID_LOCATION, invalid_pcb_image_name), cv2.IMREAD_GRAYSCALE)\n",
    "    (pos_histo, neg_histo) = find_difference_histograms(invalid_pcb_image, valid_pcb_image)\n",
    "    x = np.concatenate((pos_histo, neg_histo)).flatten()\n",
    "    X.append(x)\n",
    "    Y.append(0) # Its defect!\n",
    "\n",
    "# Add valid PCB histograms\n",
    "for i in range(N):\n",
    "    almost_horizontal = (np.random.rand(TRAIN_VECTOR_SIZE, 1) * 0.00001).flatten()\n",
    "    almost_horizontal_cumm = np.cumsum(almost_horizontal, axis=0)\n",
    "    X.append(almost_horizontal_cumm)\n",
    "    Y.append(1)\n",
    "\n",
    "tensor_X = torch.Tensor(X)\n",
    "tensor_Y = torch.Tensor(Y)\n",
    "\n",
    "dataset = TensorDataset(tensor_X, tensor_Y)\n",
    "train_set, val_set = torch.utils.data.random_split(dataset, [0.90, 0.10])\n",
    "\n",
    "train_loader = torch.utils.data.DataLoader(train_set, batch_size=BATCH_SIZE, shuffle=True)\n",
    "val_loader = torch.utils.data.DataLoader(val_set, batch_size=BATCH_SIZE, shuffle=True)"
   ]
  },
  {
   "cell_type": "code",
   "execution_count": null,
   "metadata": {},
   "outputs": [],
   "source": [
    "device = (\n",
    "    \"cuda\"\n",
    "    if torch.cuda.is_available()\n",
    "    else \"mps\"\n",
    "    if torch.backends.mps.is_available()\n",
    "    else \"cpu\"\n",
    ")\n",
    "print(f\"Using {device} device\")"
   ]
  },
  {
   "cell_type": "code",
   "execution_count": null,
   "metadata": {},
   "outputs": [],
   "source": [
    "class NeuralNetwork(nn.Module):\n",
    "    def __init__(self):\n",
    "        super().__init__()\n",
    "        self.linear_relu_stack = nn.Sequential(\n",
    "            nn.Linear(in_features=TRAIN_VECTOR_SIZE, out_features=1),\n",
    "            nn.Sigmoid()\n",
    "        )\n",
    "\n",
    "    def forward(self, x):\n",
    "        return self.linear_relu_stack(x)\n",
    "\n",
    "\n",
    "model = NeuralNetwork().to(device)\n",
    "print(f\"Model = {model}\")"
   ]
  },
  {
   "cell_type": "code",
   "execution_count": null,
   "metadata": {},
   "outputs": [],
   "source": [
    "loss_fn = nn.BCELoss()\n",
    "optimizer = torch.optim.SGD(model.parameters(), lr=0.001, momentum=0.9)"
   ]
  },
  {
   "cell_type": "code",
   "execution_count": null,
   "metadata": {},
   "outputs": [],
   "source": [
    "epochs = 150"
   ]
  },
  {
   "cell_type": "code",
   "execution_count": null,
   "metadata": {},
   "outputs": [],
   "source": [
    "def accuracy_fn(y_true, y_pred):\n",
    "    correct = torch.eq(y_true, y_pred).sum().item()\n",
    "    accuracy = (correct / len(y_pred)) * 100\n",
    "    return accuracy"
   ]
  },
  {
   "cell_type": "code",
   "execution_count": null,
   "metadata": {},
   "outputs": [],
   "source": [
    "def plot_metrics(train_losses, train_accuracy, test_losses, test_accuracy):\n",
    "    plt.figure(figsize=(10,5))\n",
    "    plt.title(\"Training and Test Loss\")\n",
    "    plt.plot(list(map(lambda x : x.detach().numpy(), test_losses)), label=\"test\")\n",
    "    plt.plot(list(map(lambda x : x.detach().numpy(), train_losses)), label=\"train\")\n",
    "    plt.xlabel(\"iterations\")\n",
    "    plt.ylabel(\"Loss\")\n",
    "    plt.legend()\n",
    "    plt.show()\n",
    "\n",
    "    plt.figure(figsize=(10,5))\n",
    "    plt.title(\"Training and Test Accuracy\")\n",
    "    plt.plot(test_accuracy, label=\"test\")\n",
    "    plt.plot(train_accuracy, label=\"train\")\n",
    "    plt.xlabel(\"iterations\")\n",
    "    plt.ylabel(\"Accuracy\")\n",
    "    plt.legend()\n",
    "    plt.show()"
   ]
  },
  {
   "cell_type": "code",
   "execution_count": null,
   "metadata": {},
   "outputs": [],
   "source": [
    "train_losses = []\n",
    "train_accuracy = []\n",
    "test_losses = []\n",
    "test_accuracy = []"
   ]
  },
  {
   "cell_type": "code",
   "execution_count": null,
   "metadata": {},
   "outputs": [],
   "source": [
    "for epoch in range(epochs):\n",
    "    train_accuracy_sum = 0\n",
    "    count_batches = 0\n",
    "    sum_loss_train = 0\n",
    "\n",
    "    for _, data in tqdm(enumerate(train_loader), total=len(train_loader)):\n",
    "        image, labels = data\n",
    "\n",
    "        y_logits = model(image).squeeze(1)\n",
    "        y_pred = torch.round(y_logits)\n",
    "\n",
    "        # 2. Calculate loss/accuracy\n",
    "        loss = loss_fn(y_logits, labels.float())\n",
    "        sum_loss_train += loss\n",
    "        train_accuracy_sum += accuracy_fn(y_true=labels, y_pred=y_pred)\n",
    "        count_batches += 1\n",
    "\n",
    "        # 3. Optimizer zero grad\n",
    "        optimizer.zero_grad()\n",
    "\n",
    "        # 4. Loss backwards\n",
    "        loss.backward()\n",
    "\n",
    "        # 5. Optimizer step\n",
    "        optimizer.step()\n",
    "\n",
    "    acc = train_accuracy_sum / count_batches\n",
    "    train_loss = sum_loss_train / count_batches\n",
    "\n",
    "    test_accuracy_sum = 0\n",
    "    test_count_batches = 0\n",
    "    sum_loss_test = 0\n",
    "\n",
    "    model.eval()\n",
    "    with torch.inference_mode():\n",
    "        for _, data in tqdm(enumerate(val_loader), total=len(val_loader)):\n",
    "            image, labels = data\n",
    "            test_logits = model(image).squeeze(1)\n",
    "            test_pred = torch.round(torch.sigmoid(test_logits))\n",
    "            test_loss = loss_fn(test_logits, labels.float())\n",
    "            sum_loss_test += test_loss\n",
    "            test_count_batches += 1\n",
    "            test_accuracy_sum += accuracy_fn(y_true=labels, y_pred=test_pred)\n",
    "\n",
    "    test_loss_avg = sum_loss_test / test_count_batches\n",
    "    test_acc = test_accuracy_sum / test_count_batches\n",
    "\n",
    "    train_losses.append(train_loss)\n",
    "    train_accuracy.append(acc)\n",
    "    test_losses.append(test_loss_avg)\n",
    "    test_accuracy.append(test_acc)\n",
    "\n",
    "    print(f\"Epoch: {epoch} | Loss: {train_loss:.5f}, Accuracy: {acc:.2f}% | Test loss: {test_loss_avg:.5f}, Test acc: {test_acc:.2f}%\")"
   ]
  },
  {
   "cell_type": "code",
   "execution_count": null,
   "metadata": {},
   "outputs": [],
   "source": [
    "plot_metrics(train_losses, train_accuracy, test_losses, test_accuracy)"
   ]
  },
  {
   "cell_type": "code",
   "execution_count": null,
   "metadata": {},
   "outputs": [],
   "source": []
  }
 ],
 "metadata": {
  "language_info": {
   "name": "python"
  }
 },
 "nbformat": 4,
 "nbformat_minor": 2
}
